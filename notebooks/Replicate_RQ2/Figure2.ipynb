{
 "cells": [
  {
   "cell_type": "markdown",
   "metadata": {},
   "source": [
    "## Reproduction of Figure 2 (Baseline Comparison)\n",
    "\n",
    "This notebook reproduces the venn diagram in Figure 2."
   ]
  },
  {
   "cell_type": "code",
   "execution_count": 2,
   "metadata": {},
   "outputs": [
    {
     "name": "stdout",
     "output_type": "stream",
     "text": [
      "# of bugs in target projects (Lang, Math, Chart, Mockito. Time): 206\n",
      "# of crash bugs in target projects: 60\n"
     ]
    }
   ],
   "source": [
    "import sys\n",
    "sys.path.append(\"../../scripts\")\n",
    "import json\n",
    "import os \n",
    "import re\n",
    "import glob\n",
    "import pandas as pd\n",
    "from collections import defaultdict\n",
    "from evaluate_util import *\n",
    "\n",
    "RESULT_PATH = '../../results/example2_n50.json'\n",
    "\n",
    "project_name_map = {\n",
    "    'Lang': 'Commons-lang',\n",
    "    'Math': 'Commons-math',\n",
    "    'Chart': 'JFreeChart',\n",
    "    'Time': 'Joda-Time',\n",
    "    'Mockito': 'Mockito'\n",
    "}\n",
    "\n",
    "target_projects = ['Time', 'Math', 'Lang', 'Chart', 'Mockito']\n",
    "\n",
    "with open('../../data/Defects4J/invalid_bug_reports.txt') as f:\n",
    "    invalid_bugs = [e.strip().replace('-', '_') for e in f.readlines()]\n",
    "\n",
    "with open(RESULT_PATH) as f:\n",
    "    data = json.load(f)\n",
    "\n",
    "eval_df = process_results_for_baseline(data)\n",
    "aggr_eval_df = eval_df.groupby('bug_id').sum().reset_index()\n",
    "aggr_eval_df['project'] = aggr_eval_df.bug_id.apply(lambda x: x.split('_')[0])\n",
    "\n",
    "succeeded_bugs = aggr_eval_df[aggr_eval_df.success > 0]\n",
    "valid_bugs = aggr_eval_df[aggr_eval_df.buggy_version_failing > 0]\n",
    "target_aggr_eval_df = aggr_eval_df[aggr_eval_df.project.isin(target_projects)]\n",
    "\n",
    "libro_success_allprojects = set(succeeded_bugs.bug_id.tolist())\n",
    "\n",
    "with open('../../data/Defects4J/jcrashpack_d4j_targets.txt', 'r') as f:\n",
    "    jcrashpack_targets = [line.strip().replace('-', '_') for line in f.readlines() if line.strip() not in invalid_bugs]\n",
    "\n",
    "targets = set(target_aggr_eval_df.bug_id.tolist()).union(jcrashpack_targets)\n",
    "\n",
    "print('# of bugs in target projects (Lang, Math, Chart, Mockito. Time):', len(targets))\n",
    "print('# of crash bugs in target projects:', len(jcrashpack_targets))"
   ]
  },
  {
   "cell_type": "markdown",
   "metadata": {},
   "source": [
    "### Load baseline result: Copy&Paste, EvoCrash\n",
    "* EvoCrash result on JCrashPack: https://zenodo.org/record/3766686#.Yw7_-OxBxqs"
   ]
  },
  {
   "cell_type": "code",
   "execution_count": 3,
   "metadata": {},
   "outputs": [],
   "source": [
    "with open('../../data/baseline/copy_n_paste_result.json') as f:\n",
    "    copynpaste_success_allprojects = json.load(f)"
   ]
  },
  {
   "cell_type": "code",
   "execution_count": 4,
   "metadata": {},
   "outputs": [
    {
     "name": "stdout",
     "output_type": "stream",
     "text": [
      "Reproduced: {'Lang_47', 'Time_5', 'Math_97', 'Lang_19', 'Math_38', 'Lang_51', 'Math_40', 'Math_8', 'Math_61', 'Math_98', 'Lang_33', 'Lang_12', 'Math_89', 'Math_100', 'Time_10', 'Math_70', 'Lang_39', 'Math_90', 'Lang_27', 'Math_84', 'Lang_45', 'Math_95', 'Time_2', 'Math_1', 'Lang_9', 'Math_79', 'Math_4', 'Math_81', 'Math_32'} 29\n"
     ]
    }
   ],
   "source": [
    "# EvoCrash result from buggy/fixed version executions\n",
    "\n",
    "def file_prober(fname):\n",
    "    with open(fname) as f:\n",
    "        flines = f.readlines()\n",
    "    \n",
    "    look_for_exception = False\n",
    "    exception_line = None\n",
    "    for line in flines:\n",
    "        if 'failure:' in line:\n",
    "            look_for_exception = True\n",
    "        if look_for_exception and re.match(r'.*: ', line) is not None:\n",
    "            exception_line = line\n",
    "            look_for_exception = False\n",
    "    return exception_line\n",
    "\n",
    "result_collater = defaultdict(lambda: ['', ''])\n",
    "for fname in os.listdir('../../data/baseline/evocrash_test_results'):\n",
    "    tname = fname.split('.')[0]\n",
    "    collater_idx = int('fixed' in fname)\n",
    "    exception_line = file_prober('../../data/baseline/evocrash_test_results/'+fname)\n",
    "    result_collater[tname][collater_idx] = exception_line\n",
    "\n",
    "reproducing = []\n",
    "evocrash_success = []\n",
    "total_bugs = []\n",
    "for key in result_collater:\n",
    "    buggy_exp, fixed_exp = result_collater[key]\n",
    "    if buggy_exp != fixed_exp:\n",
    "        reproducing.append(key)\n",
    "        evocrash_success.append(key.split('#')[0])\n",
    "    total_bugs.append(key.split('#')[0])\n",
    "\n",
    "evocrash_success = set([b.replace('-', '_') for b in evocrash_success])\n",
    "print('Reproduced:', evocrash_success, len(evocrash_success))\n",
    "\n",
    "\n",
    "# Note: 5 bugs are neither contained in EvoCrash generation result \n",
    "# nor list of \"reproduced\" bugs (=has zero fitness test) of original EvoCrash result\n",
    "# {'Lang_37', 'Lang_13', 'Math_3', 'Lang_20', 'Mockito_4'}"
   ]
  },
  {
   "cell_type": "code",
   "execution_count": 5,
   "metadata": {},
   "outputs": [
    {
     "name": "stdout",
     "output_type": "stream",
     "text": [
      "Reproduced Bugs by Ours: 108\n",
      "Reproduced Bugs by Evocrash: 29\n"
     ]
    }
   ],
   "source": [
    "copynpaste_success = targets.intersection(copynpaste_success_allprojects)\n",
    "evocrash_success = evocrash_success.intersection(targets)\n",
    "libro_success = libro_success_allprojects.intersection(targets)\n",
    "print(f'Reproduced Bugs by Ours: {len(libro_success)}')\n",
    "# print(sorted(libro_success))\n",
    "\n",
    "print(f'Reproduced Bugs by Evocrash: {len(evocrash_success)}')\n",
    "# print(sorted(evocrash_success))\n"
   ]
  },
  {
   "cell_type": "markdown",
   "metadata": {},
   "source": [
    "### (1) All crashes"
   ]
  },
  {
   "cell_type": "code",
   "execution_count": 6,
   "metadata": {},
   "outputs": [],
   "source": [
    "import matplotlib.pyplot as plt\n",
    "from matplotlib_venn import venn2_unweighted, venn3_unweighted"
   ]
  },
  {
   "cell_type": "code",
   "execution_count": 7,
   "metadata": {},
   "outputs": [
    {
     "data": {
      "image/png": "[encoded data removed]",
      "text/plain": [
       "<Figure size 432x288 with 1 Axes>"
      ]
     },
     "metadata": {},
     "output_type": "display_data"
    }
   ],
   "source": [
    "jcrashpack_targets = set(jcrashpack_targets)\n",
    "out= venn3_unweighted([jcrashpack_targets.intersection(evocrash_success), jcrashpack_targets.intersection(copynpaste_success), jcrashpack_targets.intersection(libro_success)], ('EvoCrash', 'Copy&Paste', 'LIBRO'))\n",
    "for text in out.set_labels:\n",
    "    text.set_fontsize(13)\n",
    "for text in out.subset_labels:\n",
    "    text.set_fontsize(14)\n",
    "\n",
    "plt.show()"
   ]
  },
  {
   "cell_type": "markdown",
   "metadata": {},
   "source": [
    "### (2) With noncrashes "
   ]
  },
  {
   "cell_type": "code",
   "execution_count": 8,
   "metadata": {},
   "outputs": [
    {
     "data": {
      "image/png": "[encoded data removed]",
      "text/plain": [
       "<Figure size 432x288 with 1 Axes>"
      ]
     },
     "metadata": {},
     "output_type": "display_data"
    }
   ],
   "source": [
    "out = venn3_unweighted([set(evocrash_success), set(copynpaste_success), set(libro_success)], ('EvoCrash', 'Copy&Paste', 'LIBRO'))\n",
    "for text in out.set_labels:\n",
    "    text.set_fontsize(13)\n",
    "for text in out.subset_labels:\n",
    "    text.set_fontsize(14)\n",
    "\n",
    "plt.show()"
   ]
  },
  {
   "cell_type": "markdown",
   "metadata": {},
   "source": [
    "### (3) All Defects4J projects w/ bug reports"
   ]
  },
  {
   "cell_type": "code",
   "execution_count": 9,
   "metadata": {},
   "outputs": [
    {
     "data": {
      "image/png": "[encoded data removed]",
      "text/plain": [
       "<Figure size 432x288 with 1 Axes>"
      ]
     },
     "metadata": {},
     "output_type": "display_data"
    }
   ],
   "source": [
    "out = venn2_unweighted([set(copynpaste_success_allprojects), set(aggr_eval_df[aggr_eval_df.success > 0].bug_id.unique())], ('Copy&Paste', 'LIBRO'))\n",
    "out.get_patch_by_id('10').set_color('green')\n",
    "out.get_patch_by_id('01').set_color('blue')\n",
    "out.get_patch_by_id('11').set_color('teal')\n",
    "out.get_patch_by_id('11').set_alpha(0.4)\n",
    "out.get_patch_by_id('10').set_edgecolor('none')\n",
    "out.get_patch_by_id('01').set_edgecolor('none')\n",
    "out.get_patch_by_id('11').set_edgecolor('none')\n",
    "\n",
    "for text in out.set_labels:\n",
    "    text.set_fontsize(13)\n",
    "for text in out.subset_labels:\n",
    "    text.set_fontsize(14)\n",
    "\n",
    "plt.show()"
   ]
  },
  {
   "cell_type": "markdown",
   "metadata": {},
   "source": []
  }
 ],
 "metadata": {
  "kernelspec": {
   "display_name": "Python 3.9.10 64-bit ('3.9.10')",
   "language": "python",
   "name": "python3"
  },
  "language_info": {
   "codemirror_mode": {
    "name": "ipython",
    "version": 3
   },
   "file_extension": ".py",
   "mimetype": "text/x-python",
   "name": "python",
   "nbconvert_exporter": "python",
   "pygments_lexer": "ipython3",
   "version": "3.9.10 (main, Jul 19 2022, 22:25:34) \n[GCC 7.5.0]"
  },
  "orig_nbformat": 4,
  "vscode": {
   "interpreter": {
    "hash": "fdcb8c3a7309eef9b890412834ce3e8c151f1f509fd0e51eec0e79d4c9acdf21"
   }
  }
 },
 "nbformat": 4,
 "nbformat_minor": 2
}
