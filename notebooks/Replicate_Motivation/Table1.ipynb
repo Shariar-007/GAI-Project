{
 "cells": [
  {
   "cell_type": "markdown",
   "id": "9a6aaae9",
   "metadata": {},
   "source": [
    "## Reproduction of Table 1, and values in Section 2\n",
    "\n",
    "This notebook reproduces the values provided in Table 1, along with the 28.4% number reference within the manuscript."
   ]
  },
  {
   "cell_type": "code",
   "execution_count": 7,
   "id": "c9a58eba",
   "metadata": {},
   "outputs": [],
   "source": [
    "import sys\n",
    "sys.path.append(\"../../scripts/\")\n",
    "import pandas\n",
    "import numpy as np"
   ]
  },
  {
   "cell_type": "code",
   "execution_count": 8,
   "id": "9e474628",
   "metadata": {},
   "outputs": [],
   "source": [
    "issue_test_data = pandas.read_csv('../../results_preliminary/mining_results.csv')\n",
    "issue_test_pr = pandas.read_csv('../../results_preliminary/mining_results_pr.csv', header=None)"
   ]
  },
  {
   "cell_type": "code",
   "execution_count": 9,
   "id": "5cbe15ce",
   "metadata": {},
   "outputs": [],
   "source": [
    "combined_count = dict()\n",
    "adj_col = []\n",
    "for r_idx, row in issue_test_data.iterrows():\n",
    "    curr_test_num = row.related_lb\n",
    "    pr_data_search = issue_test_pr[(issue_test_pr[0] == row.repo_name) & (issue_test_pr[4] == row.curr_total)]\n",
    "    if pr_data_search.shape[0] > 0:\n",
    "        assert pr_data_search.shape[0] == 1, row.repo_name\n",
    "        curr_test_num += pr_data_search[3].item()\n",
    "    adj_col.append(curr_test_num)\n",
    "issue_test_data['adj_lb'] = adj_col"
   ]
  },
  {
   "cell_type": "markdown",
   "id": "3cabf8a1",
   "metadata": {},
   "source": [
    "### Table 1 replication"
   ]
  },
  {
   "cell_type": "code",
   "execution_count": 10,
   "id": "9107c567",
   "metadata": {},
   "outputs": [
    {
     "data": {
      "text/html": [
       "<div>\n",
       "<style scoped>\n",
       "    .dataframe tbody tr th:only-of-type {\n",
       "        vertical-align: middle;\n",
       "    }\n",
       "\n",
       "    .dataframe tbody tr th {\n",
       "        vertical-align: top;\n",
       "    }\n",
       "\n",
       "    .dataframe thead th {\n",
       "        text-align: right;\n",
       "    }\n",
       "</style>\n",
       "<table border=\"1\" class=\"dataframe\">\n",
       "  <thead>\n",
       "    <tr style=\"text-align: right;\">\n",
       "      <th></th>\n",
       "      <th>Repository Characteristic</th>\n",
       "      <th># Repositories</th>\n",
       "    </tr>\n",
       "  </thead>\n",
       "  <tbody>\n",
       "    <tr>\n",
       "      <th>0</th>\n",
       "      <td>Could be cloned</td>\n",
       "      <td>970</td>\n",
       "    </tr>\n",
       "    <tr>\n",
       "      <th>1</th>\n",
       "      <td>Had a JUnit Test</td>\n",
       "      <td>550</td>\n",
       "    </tr>\n",
       "    <tr>\n",
       "      <th>2</th>\n",
       "      <td>Had issue-referencing commit that added test</td>\n",
       "      <td>300</td>\n",
       "    </tr>\n",
       "  </tbody>\n",
       "</table>\n",
       "</div>"
      ],
      "text/plain": [
       "                      Repository Characteristic  # Repositories\n",
       "0                               Could be cloned             970\n",
       "1                              Had a JUnit Test             550\n",
       "2  Had issue-referencing commit that added test             300"
      ]
     },
     "execution_count": 10,
     "metadata": {},
     "output_type": "execute_result"
    }
   ],
   "source": [
    "tab1_results = [\n",
    "    {'Repository Characteristic': 'Could be cloned', '# Repositories': issue_test_data.shape[0]},\n",
    "    {'Repository Characteristic': 'Had a JUnit Test', '# Repositories': sum(issue_test_data.curr_total > 0)},\n",
    "    {'Repository Characteristic': 'Had issue-referencing commit that added test', '# Repositories': sum((issue_test_data.adj_lb > 0) & (issue_test_data.has_issue_commit > 0) & (issue_test_data.curr_total > 0))}\n",
    "]\n",
    "tab1_df = pandas.DataFrame(tab1_results)\n",
    "tab1_df"
   ]
  },
  {
   "cell_type": "markdown",
   "id": "3ccca626",
   "metadata": {},
   "source": [
    "### 28.4% replication"
   ]
  },
  {
   "cell_type": "code",
   "execution_count": 11,
   "id": "9f4ca713",
   "metadata": {},
   "outputs": [
    {
     "name": "stdout",
     "output_type": "stream",
     "text": [
      "Median added by BR-related commits: 0.2841360130324822\n"
     ]
    }
   ],
   "source": [
    "focus_repos = issue_test_data[\n",
    "    (issue_test_data.adj_lb > 0) & (issue_test_data.has_issue_commit > 0) & (issue_test_data.curr_total > 0)\n",
    "]\n",
    "br_test_added_ratio = focus_repos.adj_lb / focus_repos.curr_total\n",
    "print('Median added by BR-related commits:', np.median(br_test_added_ratio))"
   ]
  },
  {
   "cell_type": "code",
   "execution_count": null,
   "id": "de3b1e78",
   "metadata": {},
   "outputs": [],
   "source": []
  }
 ],
 "metadata": {
  "kernelspec": {
   "display_name": "Python 3.9.10 64-bit ('3.9.10')",
   "language": "python",
   "name": "python3"
  },
  "language_info": {
   "codemirror_mode": {
    "name": "ipython",
    "version": 3
   },
   "file_extension": ".py",
   "mimetype": "text/x-python",
   "name": "python",
   "nbconvert_exporter": "python",
   "pygments_lexer": "ipython3",
   "version": "3.9.10 (main, Jul 19 2022, 22:25:34) \n[GCC 7.5.0]"
  },
  "vscode": {
   "interpreter": {
    "hash": "fdcb8c3a7309eef9b890412834ce3e8c151f1f509fd0e51eec0e79d4c9acdf21"
   }
  }
 },
 "nbformat": 4,
 "nbformat_minor": 5
}
