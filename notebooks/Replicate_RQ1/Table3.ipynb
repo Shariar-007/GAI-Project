{
 "cells": [
  {
   "cell_type": "markdown",
   "id": "f62264a5",
   "metadata": {},
   "source": [
    "## Reproduction of Table 3\n",
    "\n",
    "This notebook reproduces the values in Table 3 (different prompt engineering scenarios), except for the Two Examples (n=10) rows. Those values are presented in `Reproduce_Figure3.ipynb`."
   ]
  },
  {
   "cell_type": "code",
   "execution_count": 3,
   "id": "846dfbb1",
   "metadata": {},
   "outputs": [],
   "source": [
    "import sys\n",
    "sys.path.append(\"../../scripts/\")\n",
    "import json\n",
    "import pandas"
   ]
  },
  {
   "cell_type": "code",
   "execution_count": 4,
   "id": "ec949606",
   "metadata": {},
   "outputs": [],
   "source": [
    "with open('../../data/Defects4J/all_d4j_crashes.txt') as f:\n",
    "    jcrashpack_bugs = [e.strip().replace('-', '_') for e in f.readlines()]\n",
    "\n",
    "with open('../../data/Defects4J/invalid_bug_reports.txt') as f:\n",
    "    invalid_bugs = [e.strip().replace('-', '_') for e in f.readlines()]"
   ]
  },
  {
   "cell_type": "code",
   "execution_count": 5,
   "id": "54442192",
   "metadata": {},
   "outputs": [],
   "source": [
    "def evaluate(raw_result, only_crash=False):\n",
    "    rows = []\n",
    "    \n",
    "    for bug_id, test_exec_results in raw_result.items():\n",
    "        if bug_id in invalid_bugs:\n",
    "            continue\n",
    "        if only_crash and bug_id not in jcrashpack_bugs:\n",
    "            continue\n",
    "            \n",
    "        for i, (fname, res) in enumerate(test_exec_results.items()):\n",
    "            javalang_parse_error = False\n",
    "            is_compile_error = False\n",
    "            is_runtime_error = False\n",
    "            buggy_version_failing = False\n",
    "            fixed_version_failing = False\n",
    "            success = False\n",
    "\n",
    "            if isinstance(res, str):\n",
    "                javalang_parse_error = True \n",
    "            elif res['buggy']['compile_error'] or res['fixed']['compile_error']:\n",
    "                is_compile_error = True\n",
    "            elif res['buggy']['runtime_error'] or res['fixed']['runtime_error']:\n",
    "                is_runtime_error = True\n",
    "            else:\n",
    "                if res['buggy']['autogen_failed']:\n",
    "                    buggy_version_failing = True\n",
    "                if res['fixed']['autogen_failed']:\n",
    "                    fixed_version_failing = True\n",
    "                if buggy_version_failing and (not fixed_version_failing):\n",
    "                    success = True\n",
    "            \n",
    "            rows.append({\n",
    "                'project': bug_id.split('_')[0],\n",
    "                'bug_id': bug_id,\n",
    "                'test_no': i+1,\n",
    "                'javalang_parse_error': javalang_parse_error,\n",
    "                'is_compile_error': is_compile_error,\n",
    "                'is_runtime_error': is_runtime_error,\n",
    "                'buggy_version_failing': buggy_version_failing,\n",
    "                'fixed_version_failing': fixed_version_failing,\n",
    "                'fname': fname,\n",
    "                'success': success,\n",
    "            })\n",
    "    \n",
    "    return pandas.DataFrame(rows)"
   ]
  },
  {
   "cell_type": "code",
   "execution_count": 6,
   "id": "fe21d660",
   "metadata": {},
   "outputs": [],
   "source": [
    "def show_tab_results(fname, only_crash=False):\n",
    "    with open(fname) as f:\n",
    "        reproduction_df = evaluate(json.load(f), only_crash)\n",
    "    \n",
    "    aggr_eval_df = reproduction_df.groupby('bug_id').sum().reset_index()\n",
    "    aggr_eval_df['project'] = aggr_eval_df.bug_id.apply(lambda x: x.split('_')[0])\n",
    "    \n",
    "    succeeded_bugs = aggr_eval_df[aggr_eval_df.success > 0].shape[0]\n",
    "    fib_bugs = aggr_eval_df[aggr_eval_df.buggy_version_failing > 0].shape[0]\n",
    "    return succeeded_bugs, fib_bugs"
   ]
  },
  {
   "cell_type": "code",
   "execution_count": 7,
   "id": "fcce57bc",
   "metadata": {},
   "outputs": [],
   "source": [
    "RESULT_FILE_NAMES = {\n",
    "    '../../results/example0_n10.json': 'No Example (n=10)',\n",
    "    '../../results/example1_n10.json': 'One Example (n=10)',\n",
    "    '../../results/wp_example1_n10.json': 'One Example from Source Project (n=10)',\n",
    "    '../../results/constructor_example1_n10.json': 'One Example with Constructor Info (n=10)',\n",
    "    '../../results/example2_n50.json': 'Two Examples (n=50)',\n",
    "    '../../results/example2_n50.json': 'Two Examples (n=50)',\n",
    "    '../../results/example2_n50.json': 'Two Examples (n=50)',\n",
    "    '../../results/gpt3.5.json': 'ChatGPT Two Examples (n=10)',\n",
    "}\n",
    "\n",
    "CRASH_RESULT_FILE_NAMES = {\n",
    "    '../../results/example1_n10.json': 'One Example, Crash Bugs (n=10)',\n",
    "    '../../results/stack_example1_n10.json': 'One Example with Stack, Crash Bugs (n=10)',\n",
    "}"
   ]
  },
  {
   "cell_type": "code",
   "execution_count": 8,
   "id": "11afa56b",
   "metadata": {},
   "outputs": [
    {
     "data": {
      "text/html": [
       "<div>\n",
       "<style scoped>\n",
       "    .dataframe tbody tr th:only-of-type {\n",
       "        vertical-align: middle;\n",
       "    }\n",
       "\n",
       "    .dataframe tbody tr th {\n",
       "        vertical-align: top;\n",
       "    }\n",
       "\n",
       "    .dataframe thead th {\n",
       "        text-align: right;\n",
       "    }\n",
       "</style>\n",
       "<table border=\"1\" class=\"dataframe\">\n",
       "  <thead>\n",
       "    <tr style=\"text-align: right;\">\n",
       "      <th></th>\n",
       "      <th>Label</th>\n",
       "      <th>reproduced</th>\n",
       "      <th>FIB</th>\n",
       "    </tr>\n",
       "  </thead>\n",
       "  <tbody>\n",
       "    <tr>\n",
       "      <th>0</th>\n",
       "      <td>No Example (n=10)</td>\n",
       "      <td>124</td>\n",
       "      <td>440</td>\n",
       "    </tr>\n",
       "    <tr>\n",
       "      <th>1</th>\n",
       "      <td>One Example (n=10)</td>\n",
       "      <td>166</td>\n",
       "      <td>417</td>\n",
       "    </tr>\n",
       "    <tr>\n",
       "      <th>2</th>\n",
       "      <td>One Example from Source Project (n=10)</td>\n",
       "      <td>152</td>\n",
       "      <td>455</td>\n",
       "    </tr>\n",
       "    <tr>\n",
       "      <th>3</th>\n",
       "      <td>One Example with Constructor Info (n=10)</td>\n",
       "      <td>167</td>\n",
       "      <td>430</td>\n",
       "    </tr>\n",
       "    <tr>\n",
       "      <th>4</th>\n",
       "      <td>Two Examples (n=50)</td>\n",
       "      <td>251</td>\n",
       "      <td>570</td>\n",
       "    </tr>\n",
       "    <tr>\n",
       "      <th>5</th>\n",
       "      <td>ChatGPT Two Examples (n=10)</td>\n",
       "      <td>161</td>\n",
       "      <td>382</td>\n",
       "    </tr>\n",
       "  </tbody>\n",
       "</table>\n",
       "</div>"
      ],
      "text/plain": [
       "                                      Label  reproduced  FIB\n",
       "0                         No Example (n=10)         124  440\n",
       "1                        One Example (n=10)         166  417\n",
       "2    One Example from Source Project (n=10)         152  455\n",
       "3  One Example with Constructor Info (n=10)         167  430\n",
       "4                       Two Examples (n=50)         251  570\n",
       "5               ChatGPT Two Examples (n=10)         161  382"
      ]
     },
     "execution_count": 8,
     "metadata": {},
     "output_type": "execute_result"
    }
   ],
   "source": [
    "upper_results = []\n",
    "for fname, label in RESULT_FILE_NAMES.items():\n",
    "    reproduced, fibed = show_tab_results(fname)\n",
    "    upper_results.append({'Label': label, 'reproduced': reproduced, 'FIB': fibed})\n",
    "upper_df = pandas.DataFrame(upper_results)\n",
    "upper_df"
   ]
  },
  {
   "cell_type": "code",
   "execution_count": 7,
   "id": "40a33c63",
   "metadata": {},
   "outputs": [
    {
     "data": {
      "text/html": [
       "<div>\n",
       "<style scoped>\n",
       "    .dataframe tbody tr th:only-of-type {\n",
       "        vertical-align: middle;\n",
       "    }\n",
       "\n",
       "    .dataframe tbody tr th {\n",
       "        vertical-align: top;\n",
       "    }\n",
       "\n",
       "    .dataframe thead th {\n",
       "        text-align: right;\n",
       "    }\n",
       "</style>\n",
       "<table border=\"1\" class=\"dataframe\">\n",
       "  <thead>\n",
       "    <tr style=\"text-align: right;\">\n",
       "      <th></th>\n",
       "      <th>Label</th>\n",
       "      <th>reproduced</th>\n",
       "      <th>FIB</th>\n",
       "    </tr>\n",
       "  </thead>\n",
       "  <tbody>\n",
       "    <tr>\n",
       "      <th>0</th>\n",
       "      <td>One Example, Crash Bugs (n=10)</td>\n",
       "      <td>69</td>\n",
       "      <td>153</td>\n",
       "    </tr>\n",
       "    <tr>\n",
       "      <th>1</th>\n",
       "      <td>One Example with Stack, Crash Bugs (n=10)</td>\n",
       "      <td>84</td>\n",
       "      <td>155</td>\n",
       "    </tr>\n",
       "  </tbody>\n",
       "</table>\n",
       "</div>"
      ],
      "text/plain": [
       "                                       Label  reproduced  FIB\n",
       "0             One Example, Crash Bugs (n=10)          69  153\n",
       "1  One Example with Stack, Crash Bugs (n=10)          84  155"
      ]
     },
     "execution_count": 7,
     "metadata": {},
     "output_type": "execute_result"
    }
   ],
   "source": [
    "lower_results = []\n",
    "for fname, label in CRASH_RESULT_FILE_NAMES.items():\n",
    "    reproduced, fibed = show_tab_results(fname, only_crash=True)\n",
    "    lower_results.append({'Label': label, 'reproduced': reproduced, 'FIB': fibed})\n",
    "lower_df = pandas.DataFrame(lower_results)\n",
    "lower_df"
   ]
  },
  {
   "cell_type": "code",
   "execution_count": null,
   "id": "d5642473",
   "metadata": {},
   "outputs": [],
   "source": []
  }
 ],
 "metadata": {
  "kernelspec": {
   "display_name": "Python 3.9.10 64-bit ('3.9.10')",
   "language": "python",
   "name": "python3"
  },
  "language_info": {
   "codemirror_mode": {
    "name": "ipython",
    "version": 3
   },
   "file_extension": ".py",
   "mimetype": "text/x-python",
   "name": "python",
   "nbconvert_exporter": "python",
   "pygments_lexer": "ipython3",
   "version": "3.9.10"
  },
  "vscode": {
   "interpreter": {
    "hash": "fdcb8c3a7309eef9b890412834ce3e8c151f1f509fd0e51eec0e79d4c9acdf21"
   }
  }
 },
 "nbformat": 4,
 "nbformat_minor": 5
}
